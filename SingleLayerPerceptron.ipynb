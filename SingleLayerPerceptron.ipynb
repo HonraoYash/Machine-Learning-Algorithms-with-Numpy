{
 "cells": [
  {
   "cell_type": "code",
   "execution_count": 1,
   "id": "88325aba",
   "metadata": {},
   "outputs": [],
   "source": [
    "# Single Layer Perceptron\n",
    "import numpy as np\n",
    "\n",
    "class LogisticRegressionPerceptron:\n",
    "    def __init__(self, input_dim, lr=0.01, epochs=1000):\n",
    "        self.lr = lr\n",
    "        self.epochs = epochs\n",
    "        self.W = np.random.randn(input_dim, 1) * 0.01\n",
    "        self.b = 0\n",
    "\n",
    "    def sigmoid(self, z):\n",
    "        return 1 / (1 + np.exp(-z))\n",
    "\n",
    "    def fit(self, X, y):\n",
    "        y = y.reshape(-1, 1)\n",
    "        m = X.shape[0]\n",
    "\n",
    "        for epoch in range(self.epochs):\n",
    "            z = X @ self.W + self.b\n",
    "            y_pred = self.sigmoid(z)\n",
    "\n",
    "            # Gradients\n",
    "            dz = (y_pred - y) / m\n",
    "            dW = X.T @ dz\n",
    "            db = np.sum(dz)\n",
    "\n",
    "            # Update\n",
    "            self.W -= self.lr * dW\n",
    "            self.b -= self.lr * db\n",
    "\n",
    "    def predict(self, X, threshold=0.5):\n",
    "        z = X @ self.W + self.b\n",
    "        probs = self.sigmoid(z)\n",
    "        return (probs >= threshold).astype(int)"
   ]
  }
 ],
 "metadata": {
  "kernelspec": {
   "display_name": "Python 3",
   "language": "python",
   "name": "python3"
  },
  "language_info": {
   "codemirror_mode": {
    "name": "ipython",
    "version": 3
   },
   "file_extension": ".py",
   "mimetype": "text/x-python",
   "name": "python",
   "nbconvert_exporter": "python",
   "pygments_lexer": "ipython3",
   "version": "3.13.2"
  }
 },
 "nbformat": 4,
 "nbformat_minor": 5
}
