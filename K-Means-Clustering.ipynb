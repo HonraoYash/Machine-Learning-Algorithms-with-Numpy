{
 "cells": [
  {
   "cell_type": "code",
   "execution_count": null,
   "id": "2f52e5c2",
   "metadata": {},
   "outputs": [],
   "source": [
    "# K Means from scratch\n",
    "import numpy as np\n",
    "\n",
    "class KMeans:\n",
    "    def __init__(self, k=3, max_iters=100):\n",
    "        self.k = k\n",
    "        self.max_iters = max_iters\n",
    "        self.centroids = None\n",
    "\n",
    "    def fit(self, X):\n",
    "        # Randomly initialize centroids\n",
    "        np.random.seed(42)\n",
    "        random_idx = np.random.choice(len(X), self.k, replace=False)\n",
    "        self.centroids = X[random_idx]\n",
    "\n",
    "        for _ in range(self.max_iters):\n",
    "            # Step 1: Assign points to nearest centroid\n",
    "            labels = self._assign_clusters(X) # array of length m\n",
    "\n",
    "            # Step 2: Recompute centroids\n",
    "            new_centroids = np.array([X[labels == i].mean(axis=0) for i in range(self.k)]) # labels == i builds a boolean mask of shape (m,) marking which rows of X belong to cluster i\n",
    "            # X[labels == i] selects only those rows → shape (n_i, n_features) where n_i is the number of points in cluster i.\n",
    "\n",
    "            # Check for convergence\n",
    "            if np.allclose(self.centroids, new_centroids):\n",
    "                break\n",
    "\n",
    "            self.centroids = new_centroids\n",
    "\n",
    "        return self\n",
    "\n",
    "    def _assign_clusters(self, X):\n",
    "        # Compute distances from points to each centroid\n",
    "        distances = np.linalg.norm(X[:, np.newaxis] - self.centroids, axis=2)   # will be a vector of one vector for each point containing the distance of that point to each centroid.\n",
    "        # Assign cluster with smallest distance\n",
    "        return np.argmin(distances, axis=1)      # an array of length m.\n",
    "\n",
    "    def predict(self, X):\n",
    "        return self._assign_clusters(X)\n",
    "    \n",
    "np.random.seed(42)\n",
    "X = np.random.randn(100,2)\n",
    "\n",
    "print(X[:3])\n",
    "\n",
    "kmeans = KMeans(k=2,max_iter=200)\n",
    "kmeans.fit(X)\n",
    "\n",
    "kmeans.predict(X[:3])\n",
    "# kmeans.centroids    "
   ]
  },
  {
   "cell_type": "code",
   "execution_count": null,
   "id": "9f5dc9a3",
   "metadata": {},
   "outputs": [
    {
     "name": "stdout",
     "output_type": "stream",
     "text": [
      "Final centroids:\n",
      " [[1.16666667 1.46666667]\n",
      " [7.33333333 9.        ]]\n",
      "Cluster assignments: [0 0 1 1 0 1]\n"
     ]
    }
   ],
   "source": [
    "# Toy dataset\n",
    "X = np.array([\n",
    "    [1, 2], [1.5, 1.8], [5, 8],\n",
    "    [8, 8], [1, 0.6], [9, 11]\n",
    "])\n",
    "\n",
    "kmeans = KMeans(k=2, max_iters=100)\n",
    "kmeans.fit(X)\n",
    "\n",
    "print(\"Final centroids:\\n\", kmeans.centroids)\n",
    "print(\"Cluster assignments:\", kmeans.predict(X))"
   ]
  },
  {
   "cell_type": "code",
   "execution_count": 9,
   "id": "7511eb31",
   "metadata": {},
   "outputs": [],
   "source": [
    "import numpy as np\n",
    "\n",
    "class KMeans_Clustering:\n",
    "    def __init__(self, k=2, max_iter=100):\n",
    "        self.k = k\n",
    "        self.max_iter = max_iter\n",
    "        self.centroids = None\n",
    "\n",
    "    def assign_cluster(self, X):\n",
    "        distances = np.linalg.norm(X[:,np.newaxis] - self.centroids, axis=2)\n",
    "        clusters = np.argmin(distances, axis=1)\n",
    "        return clusters\n",
    "\n",
    "    def fit(self, X):\n",
    "        # Randomly initialize the centroids\n",
    "        np.random.seed(42)\n",
    "        random_idx = np.random.choice(len(X), self.k, replace=False)\n",
    "        self.centroids = X[random_idx]\n",
    "\n",
    "        for i in range(self.max_iter):\n",
    "            # Assign the points to clusters\n",
    "            clusters = self.assign_cluster(X)    \n",
    "\n",
    "            # Recompute the new centroids\n",
    "            new_centroids = np.array([X[clusters == i].mean(axis=0) for i in range(self.k)])\n",
    "\n",
    "            # Check for convergence\n",
    "            if np.allclose(new_centroids, self.centroids):\n",
    "                break\n",
    "\n",
    "            self.centroids = new_centroids\n",
    "\n",
    "    def predict(self, X):\n",
    "        return self.assign_cluster(X)        "
   ]
  },
  {
   "cell_type": "code",
   "execution_count": 12,
   "id": "b536eaaa",
   "metadata": {},
   "outputs": [
    {
     "name": "stdout",
     "output_type": "stream",
     "text": [
      "[[ 0.49671415 -0.1382643 ]\n",
      " [ 0.64768854  1.52302986]\n",
      " [-0.23415337 -0.23413696]]\n"
     ]
    },
    {
     "data": {
      "text/plain": [
       "array([1, 0, 1])"
      ]
     },
     "execution_count": 12,
     "metadata": {},
     "output_type": "execute_result"
    }
   ],
   "source": [
    "np.random.seed(42)\n",
    "X = np.random.randn(100,2)\n",
    "\n",
    "print(X[:3])\n",
    "\n",
    "kmeans = KMeans_Clustering(k=2,max_iter=200)\n",
    "kmeans.fit(X)\n",
    "\n",
    "kmeans.predict(X[:3])\n",
    "# kmeans.centroids"
   ]
  }
 ],
 "metadata": {
  "kernelspec": {
   "display_name": "Python 3",
   "language": "python",
   "name": "python3"
  },
  "language_info": {
   "codemirror_mode": {
    "name": "ipython",
    "version": 3
   },
   "file_extension": ".py",
   "mimetype": "text/x-python",
   "name": "python",
   "nbconvert_exporter": "python",
   "pygments_lexer": "ipython3",
   "version": "3.13.2"
  }
 },
 "nbformat": 4,
 "nbformat_minor": 5
}
