{
 "cells": [
  {
   "cell_type": "code",
   "execution_count": null,
   "id": "2437aa05",
   "metadata": {},
   "outputs": [],
   "source": [
    "def convolve(signal,kernel):\n",
    "    output =[]\n",
    "    kernel_size = len(kernel)\n",
    "    "
   ]
  },
  {
   "cell_type": "code",
   "execution_count": null,
   "id": "2d16cd7b",
   "metadata": {},
   "outputs": [],
   "source": [
    "signal = [1, 2, 3, 4, 5, 6]\n",
    "kernel = [1, 0, -1]\n",
    "output = convolve(signal, kernel)\n",
    "print(output)"
   ]
  }
 ],
 "metadata": {
  "language_info": {
   "name": "python"
  }
 },
 "nbformat": 4,
 "nbformat_minor": 5
}
